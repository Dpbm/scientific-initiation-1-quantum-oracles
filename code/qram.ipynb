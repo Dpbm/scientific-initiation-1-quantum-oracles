{
 "cells": [
  {
   "cell_type": "code",
   "execution_count": 129,
   "id": "3b1eeb3e-50e0-4c6b-a42d-f1b3fe05bfbd",
   "metadata": {},
   "outputs": [],
   "source": [
    "%matplotlib inline\n",
    "from qiskit import QuantumCircuit, QuantumRegister, transpile\n",
    "from qiskit.quantum_info import Statevector\n",
    "from qiskit.visualization import array_to_latex, plot_histogram\n",
    "from qiskit_aer import AerSimulator\n",
    "from functools import partial"
   ]
  },
  {
   "cell_type": "code",
   "execution_count": 22,
   "id": "472d852a-e84d-485d-871f-434702d438fd",
   "metadata": {},
   "outputs": [],
   "source": [
    "show_unitary = partial(array_to_latex, max_size=100000)\n",
    "show_state = lambda qc: Statevector(qc).draw('latex')"
   ]
  },
  {
   "cell_type": "code",
   "execution_count": 160,
   "id": "403c3b55-0fc6-472b-be01-5e4a65b475b3",
   "metadata": {},
   "outputs": [],
   "source": [
    "def get_unitary(qc, sim=AerSimulator()):\n",
    "    qc_copy = qc.copy()\n",
    "    qc_copy.save_unitary()\n",
    "    unitary = sim.run(transpile(qc_copy, sim), shots=1000).result().get_unitary()\n",
    "    return unitary"
   ]
  },
  {
   "cell_type": "code",
   "execution_count": 161,
   "id": "02574428-8a92-4b81-afad-f8061e7c7d25",
   "metadata": {},
   "outputs": [
    {
     "data": {
      "image/png": "[encoded data removed]",
      "text/plain": [
       "<Figure size 203.683x200.667 with 1 Axes>"
      ]
     },
     "metadata": {},
     "output_type": "display_data"
    },
    {
     "data": {
      "text/latex": [
       "$$\n",
       "\n",
       "\\begin{bmatrix}\n",
       "1 & 0 & 0 & 0  \\\\\n",
       " 0 & 1 & 0 & 0  \\\\\n",
       " 0 & 0 & 1 & 0  \\\\\n",
       " 0 & 0 & 0 & -1  \\\\\n",
       " \\end{bmatrix}\n",
       "$$"
      ],
      "text/plain": [
       "<IPython.core.display.Latex object>"
      ]
     },
     "execution_count": 161,
     "metadata": {},
     "output_type": "execute_result"
    }
   ],
   "source": [
    "mem = QuantumCircuit(2, name=\"QROM\")\n",
    "mem.cz(0,1)\n",
    "display(mem.draw('mpl'))\n",
    "show_unitary(get_unitary(mem))"
   ]
  },
  {
   "cell_type": "code",
   "execution_count": 207,
   "id": "6988fd51-add3-41cc-8f41-1f859d58204c",
   "metadata": {},
   "outputs": [
    {
     "data": {
      "image/png": "[encoded data removed]",
      "text/plain": [
       "<Figure size 454.517x200.667 with 1 Axes>"
      ]
     },
     "metadata": {},
     "output_type": "display_data"
    },
    {
     "data": {
      "text/latex": [
       "$$\n",
       "\n",
       "\\begin{bmatrix}\n",
       "-1 & 0 & 0 & 0  \\\\\n",
       " 0 & 1 & 0 & 0  \\\\\n",
       " 0 & 0 & 1 & 0  \\\\\n",
       " 0 & 0 & 0 & 1  \\\\\n",
       " \\end{bmatrix}\n",
       "$$"
      ],
      "text/plain": [
       "<IPython.core.display.Latex object>"
      ]
     },
     "metadata": {},
     "output_type": "display_data"
    },
    {
     "data": {
      "text/latex": [
       "$$- |00\\rangle$$"
      ],
      "text/plain": [
       "<IPython.core.display.Latex object>"
      ]
     },
     "execution_count": 207,
     "metadata": {},
     "output_type": "execute_result"
    }
   ],
   "source": [
    "qc = QuantumCircuit(2)\n",
    "\n",
    "qc.x(range(2))\n",
    "qc.append(mem, [0,1])\n",
    "qc.x(range(2))\n",
    "\n",
    "display(qc.draw('mpl'))\n",
    "display(show_unitary(get_unitary(qc)))\n",
    "show_state(qc)"
   ]
  }
 ],
 "metadata": {
  "kernelspec": {
   "display_name": "Python 3 (ipykernel)",
   "language": "python",
   "name": "python3"
  },
  "language_info": {
   "codemirror_mode": {
    "name": "ipython",
    "version": 3
   },
   "file_extension": ".py",
   "mimetype": "text/x-python",
   "name": "python",
   "nbconvert_exporter": "python",
   "pygments_lexer": "ipython3",
   "version": "3.8.15"
  }
 },
 "nbformat": 4,
 "nbformat_minor": 5
}
