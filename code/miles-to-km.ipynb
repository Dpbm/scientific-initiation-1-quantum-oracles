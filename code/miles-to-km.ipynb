{
 "cells": [
  {
   "cell_type": "code",
   "execution_count": 63,
   "id": "794ecdc0-3ce0-4983-b71a-48ed970d9c5d",
   "metadata": {},
   "outputs": [],
   "source": [
    "%matplotlib inline\n",
    "from qiskit import QuantumCircuit, transpile, QuantumRegister, ClassicalRegister\n",
    "from qiskit.visualization import plot_histogram\n",
    "from qiskit.quantum_info import Statevector\n",
    "from qiskit_aer import AerSimulator\n",
    "import matplotlib.pyplot as plt\n",
    "from tqdm.notebook import tqdm\n",
    "import numpy as np\n",
    "import pandas as pd\n",
    "import matplotlib.pyplot as plt\n",
    "import functools\n",
    "from utils import fibonacci\n",
    "from collections import defaultdict "
   ]
  },
  {
   "cell_type": "markdown",
   "id": "263290ef-db6c-40ba-8e0f-48aba4b2690c",
   "metadata": {},
   "source": [
    "![miles-km](./assets/convertion.png)"
   ]
  },
  {
   "cell_type": "code",
   "execution_count": 2,
   "id": "af4853e1-ff8b-4809-b851-700fe5eebef1",
   "metadata": {},
   "outputs": [],
   "source": [
    "ONE_KM_TO_MILES=0.621371"
   ]
  },
  {
   "cell_type": "markdown",
   "id": "0246ef88-9d9b-4110-9874-5aeb2df90ad2",
   "metadata": {},
   "source": [
    "## Conversion\n",
    "\n",
    "$ 0, 1, 1, 2, 3, 5, 8, 13, 21, 34, 55, ... $\n",
    "\n",
    "Using the fibonacci sequence, we can get some conversions:\n",
    "\n",
    "## miles to km\n",
    "\n",
    "To do that, we need to get next value of the fibonacci sequence:\n",
    "$F(N+1) = miles \\to km$\n",
    "\n",
    "$miles = 8$\\\n",
    "$km = 13$\n",
    "\n",
    "```\n",
    "1km  - 0.621371 miles\n",
    "xkm  - 8 miles\n",
    "```\n",
    "$8 = x * 0.621371$\\\n",
    "$x = {8 \\over 0.621371}$\\\n",
    "$x = 12.874755983140506 \\approx 13km$\n",
    "\n",
    "---\n",
    "\n",
    "## km to miles\n",
    "\n",
    "To do that, we need to get actual value of the fibonacci sequence:\n",
    "$F(N) = km \\to miles$\n",
    "\n",
    "\n",
    "$km = 13$\\\n",
    "$miles = 8$\n",
    "\n",
    "```\n",
    "1km  - 0.621371 miles\n",
    "13km  - x miles\n",
    "```\n",
    "\n",
    "$x = 13*0.621371$\\\n",
    "$x = 8.077823 \\approx 8 miles$"
   ]
  },
  {
   "cell_type": "code",
   "execution_count": 3,
   "id": "ed39eebe-a21b-49cb-8df4-0cdbbd42a674",
   "metadata": {},
   "outputs": [],
   "source": [
    "@functools.lru_cache(maxsize=1000)\n",
    "def km_to_miles(km, last=0, n=0):\n",
    "    fib_value = fibonacci(n)\n",
    "\n",
    "    if(fib_value == km):\n",
    "        return last\n",
    "\n",
    "    if(fib_value > km*ONE_KM_TO_MILES):\n",
    "        raise Exception(f\"{km} Not in the sequence\")\n",
    "\n",
    "    return km_to_miles(km, fib_value, n+1)"
   ]
  },
  {
   "cell_type": "code",
   "execution_count": 4,
   "id": "88035962-a678-4bde-9c80-7469124dca30",
   "metadata": {},
   "outputs": [
    {
     "data": {
      "text/plain": [
       "13"
      ]
     },
     "execution_count": 4,
     "metadata": {},
     "output_type": "execute_result"
    }
   ],
   "source": [
    "km_to_miles(21)"
   ]
  },
  {
   "cell_type": "code",
   "execution_count": 5,
   "id": "6c214771-acd0-4783-b019-fce84c491724",
   "metadata": {},
   "outputs": [],
   "source": [
    "@functools.lru_cache(maxsize=1000)\n",
    "def miles_to_km(miles, last=0, n=0):\n",
    "    fib_value = fibonacci(n)\n",
    "\n",
    "    if(last == miles):\n",
    "        return fib_value\n",
    "\n",
    "    if(fib_value > miles/ONE_KM_TO_MILES):\n",
    "        raise Exception(f\"{miles} Not in the sequence\")\n",
    "\n",
    "    return miles_to_km(miles, fib_value, n+1)"
   ]
  },
  {
   "cell_type": "code",
   "execution_count": 6,
   "id": "edcf9e41-44f5-48d0-875a-c937366f8eec",
   "metadata": {},
   "outputs": [
    {
     "data": {
      "text/plain": [
       "21"
      ]
     },
     "execution_count": 6,
     "metadata": {},
     "output_type": "execute_result"
    }
   ],
   "source": [
    "miles_to_km(13)"
   ]
  },
  {
   "cell_type": "markdown",
   "id": "f26b31e6-7710-4a1f-9147-dfd6576723b4",
   "metadata": {},
   "source": [
    "For values that aren't in the fibonacci sequence, we can break the value into fibonacci values:\n",
    "\n",
    "\n",
    "$ 0, 1, 1, 2, 3, 5, 8, 13, 21, 34, 55, ... $\n",
    "\n",
    "$(km \\to miles)(12)$\\\n",
    "$12 \\to {8 + 3 + 1}$\n",
    "\n",
    "So\n",
    "\n",
    "$12km \\to miles = 5+2+1 = 8$"
   ]
  },
  {
   "cell_type": "code",
   "execution_count": 7,
   "id": "6d3ac060-f8ac-4b8c-81cc-3ad65143c991",
   "metadata": {},
   "outputs": [],
   "source": [
    "km_miles = lambda km : km*ONE_KM_TO_MILES\n",
    "miles_km = lambda miles: miles/ONE_KM_TO_MILES"
   ]
  },
  {
   "cell_type": "code",
   "execution_count": 8,
   "id": "dd94c081-efb5-4f95-b96c-4c563ca72262",
   "metadata": {},
   "outputs": [
    {
     "data": {
      "text/plain": [
       "7.4564520000000005"
      ]
     },
     "execution_count": 8,
     "metadata": {},
     "output_type": "execute_result"
    }
   ],
   "source": [
    "km_miles(12)"
   ]
  },
  {
   "cell_type": "markdown",
   "id": "3aeebc07-c01a-462b-86fc-353294c33325",
   "metadata": {},
   "source": [
    "$7.4564520000000005 \\approx 8$"
   ]
  },
  {
   "cell_type": "markdown",
   "id": "8aa46fe6-96ac-4f4a-9753-376fc86e4200",
   "metadata": {},
   "source": [
    "$(km \\to miles)(24)$\\\n",
    "$24 \\to {21 + 3}$\n",
    "\n",
    "$13 + 2 = 15$"
   ]
  },
  {
   "cell_type": "code",
   "execution_count": 9,
   "id": "60d23006-e728-4b8f-b2a2-f4fe301ca721",
   "metadata": {},
   "outputs": [
    {
     "data": {
      "text/plain": [
       "14.912904000000001"
      ]
     },
     "execution_count": 9,
     "metadata": {},
     "output_type": "execute_result"
    }
   ],
   "source": [
    "km_miles(24)"
   ]
  },
  {
   "cell_type": "markdown",
   "id": "96e5e81d-22b5-4cd4-92f9-a2d1d5cc2fa9",
   "metadata": {},
   "source": [
    "$14.912904000000001 \\approx 15$"
   ]
  },
  {
   "cell_type": "code",
   "execution_count": 10,
   "id": "f0eafed3-bac6-4296-8081-86e181698197",
   "metadata": {},
   "outputs": [],
   "source": [
    "BASE_NUMBERS = (1, 2, 3, 5, 8, 13, 21)\n",
    "\n",
    "def breakdown(n, base_numbers=BASE_NUMBERS):\n",
    "    used_numbers = defaultdict(int)\n",
    "    for base_number in reversed(base_numbers):\n",
    "        while(base_number <= n):\n",
    "            used_numbers[base_number] += 1\n",
    "            n -= base_number\n",
    "    return dict(used_numbers)"
   ]
  },
  {
   "cell_type": "code",
   "execution_count": 11,
   "id": "efa83f23-a141-4135-8b97-5c90c90cf91d",
   "metadata": {},
   "outputs": [
    {
     "data": {
      "text/plain": [
       "{21: 344, 13: 1, 3: 1}"
      ]
     },
     "execution_count": 11,
     "metadata": {},
     "output_type": "execute_result"
    }
   ],
   "source": [
    "breakdown(7240)"
   ]
  },
  {
   "cell_type": "code",
   "execution_count": 12,
   "id": "b529aa33-d514-4f49-a56f-e3a4e05823c9",
   "metadata": {},
   "outputs": [],
   "source": [
    "def get_fib_pos(n, base_numbers=BASE_NUMBERS):\n",
    "    return base_numbers.index(n)"
   ]
  },
  {
   "cell_type": "code",
   "execution_count": 13,
   "id": "be1af740-ec62-4864-be91-2491c6510335",
   "metadata": {},
   "outputs": [],
   "source": [
    "def get_relative_miles_km(n):\n",
    "    numbers = list(BASE_NUMBERS)+[34]\n",
    "    pos = get_fib_pos(n)\n",
    "    return numbers[pos+1]"
   ]
  },
  {
   "cell_type": "code",
   "execution_count": 14,
   "id": "2ad5c568-6660-4892-885b-85acd4ea4d99",
   "metadata": {},
   "outputs": [],
   "source": [
    "def get_relative_km_miles(n):\n",
    "    numbers = [1]+list(BASE_NUMBERS)\n",
    "    pos = get_fib_pos(n)\n",
    "    return numbers[pos]"
   ]
  },
  {
   "cell_type": "code",
   "execution_count": 15,
   "id": "5093a86e-1904-400d-a09d-4afc0743e942",
   "metadata": {},
   "outputs": [
    {
     "data": {
      "text/plain": [
       "13"
      ]
     },
     "execution_count": 15,
     "metadata": {},
     "output_type": "execute_result"
    }
   ],
   "source": [
    "get_relative_miles_km(8)"
   ]
  },
  {
   "cell_type": "code",
   "execution_count": 16,
   "id": "6fc69f60-1f38-4fef-b8aa-491c9db85a2f",
   "metadata": {},
   "outputs": [
    {
     "data": {
      "text/plain": [
       "5"
      ]
     },
     "execution_count": 16,
     "metadata": {},
     "output_type": "execute_result"
    }
   ],
   "source": [
    "get_relative_km_miles(8)"
   ]
  },
  {
   "cell_type": "code",
   "execution_count": 17,
   "id": "f4512509-e56c-4c35-8e43-631444eacabf",
   "metadata": {},
   "outputs": [],
   "source": [
    "def new_miles_to_km(n):\n",
    "    result = 0\n",
    "    factors = breakdown(n)\n",
    "    for (number, total) in factors.items():\n",
    "        relative = get_relative_miles_km(number)\n",
    "        result += (relative*total)\n",
    "    return result"
   ]
  },
  {
   "cell_type": "code",
   "execution_count": 18,
   "id": "abf2474e-0fd8-46df-ae5f-45abb25a377d",
   "metadata": {},
   "outputs": [
    {
     "data": {
      "text/plain": [
       "24"
      ]
     },
     "execution_count": 18,
     "metadata": {},
     "output_type": "execute_result"
    }
   ],
   "source": [
    "new_miles_to_km(15)"
   ]
  },
  {
   "cell_type": "code",
   "execution_count": 19,
   "id": "481824ec-dec3-4851-8d33-600a46298efb",
   "metadata": {},
   "outputs": [],
   "source": [
    "def new_km_to_miles(n):\n",
    "    result = 0\n",
    "    factors = breakdown(n)\n",
    "    print(factors)\n",
    "    for (number, total) in factors.items():\n",
    "        relative = get_relative_km_miles(number)\n",
    "        result += (relative*total)\n",
    "    return result"
   ]
  },
  {
   "cell_type": "code",
   "execution_count": 20,
   "id": "cdfb0c3b-3a4a-4aae-8da0-de5a4dd2861d",
   "metadata": {},
   "outputs": [
    {
     "name": "stdout",
     "output_type": "stream",
     "text": [
      "{8: 1, 3: 1, 1: 1}\n"
     ]
    },
    {
     "data": {
      "text/plain": [
       "8"
      ]
     },
     "execution_count": 20,
     "metadata": {},
     "output_type": "execute_result"
    }
   ],
   "source": [
    "new_km_to_miles(12)"
   ]
  },
  {
   "cell_type": "markdown",
   "id": "94d6765d-0999-4338-a6c2-bc0de444c335",
   "metadata": {},
   "source": [
    "---"
   ]
  },
  {
   "cell_type": "code",
   "execution_count": 21,
   "id": "0421f810-f8dd-48b2-962c-e09ad8d3824c",
   "metadata": {
    "jupyter": {
     "source_hidden": true
    }
   },
   "outputs": [],
   "source": [
    "PI = np.pi"
   ]
  },
  {
   "cell_type": "code",
   "execution_count": 22,
   "id": "799f096d-6f52-47c9-884b-236e53e9800d",
   "metadata": {},
   "outputs": [],
   "source": [
    "class Oracle(QuantumCircuit):\n",
    "    def __init__(self, n_qubits):\n",
    "        assert n_qubits >= 2, \"Invalid number of qubits!\"\n",
    "        self.n_qubits = n_qubits\n",
    "        super().__init__(n_qubits, name=\"oracle\")\n",
    "        self.generate()\n",
    "        \n",
    "    def generate(self):\n",
    "        self.ry(PI/2, range(self.n_qubits))\n",
    "        for i in range(self.n_qubits-1):\n",
    "            self.cry(-PI/2, i, i+1)\n",
    "\n",
    "    def simulate(self, backend=AerSimulator(), shots=1000):\n",
    "        qc_copy = self.copy()\n",
    "        qc_copy.measure_all()\n",
    "        transpiled_qc = transpile(qc_copy, backend)\n",
    "        return backend.run(transpiled_qc).result().get_counts()"
   ]
  },
  {
   "cell_type": "code",
   "execution_count": 23,
   "id": "7c5df824-11cc-4e5b-858f-4a48a0c239ee",
   "metadata": {},
   "outputs": [
    {
     "data": {
      "image/png": "[encoded data removed]",
      "text/plain": [
       "<Figure size 287.294x200.667 with 1 Axes>"
      ]
     },
     "metadata": {},
     "output_type": "display_data"
    }
   ],
   "source": [
    "oracle = Oracle(2)\n",
    "display(oracle.draw('mpl'))"
   ]
  },
  {
   "cell_type": "code",
   "execution_count": 24,
   "id": "fc20d1fc-315c-4daa-a8ed-139b88fa99f6",
   "metadata": {},
   "outputs": [],
   "source": [
    "class KM_to_Miles(object):\n",
    "    def __init__(self, iterations=3, base_oracle=Oracle):\n",
    "        self.iterations = iterations\n",
    "        self.total_qubits = 2\n",
    "        self.oracle = base_oracle\n",
    "        self.qc = self.oracle(2)\n",
    "        self.results = pd.DataFrame(columns=['n_qubits', 'result'])\n",
    "        \n",
    "    def run(self, backend=AerSimulator(), shots=1000, debug=True):\n",
    "        for i in tqdm(range(self.iterations)):\n",
    "            results = self.qc.simulate(backend, shots)\n",
    "            fibonacci_number = len(results)\n",
    "\n",
    "            if(debug):\n",
    "                print('-'*20)\n",
    "                print(f'i: {i}')\n",
    "                print(f'n: {self.total_qubits}')\n",
    "                print(f'F({i}): {fibonacci_number}') \n",
    "            \n",
    "            self.results = pd.concat([self.results, pd.DataFrame({'n_qubits':self.total_qubits, 'result':fibonacci_number}, columns=['n_qubits', 'result'], index=[iter])], ignore_index=True)\n",
    "            \n",
    "            self.total_qubits+=1\n",
    "            self.qc = self.oracle(self.total_qubits)"
   ]
  },
  {
   "cell_type": "code",
   "execution_count": 25,
   "id": "4c9dffdc-5cf2-4384-921b-9ec89e176746",
   "metadata": {},
   "outputs": [
    {
     "data": {
      "application/vnd.jupyter.widget-view+json": {
       "model_id": "003427298093499abcc66c7ab185055d",
       "version_major": 2,
       "version_minor": 0
      },
      "text/plain": [
       "  0%|          | 0/10 [00:00<?, ?it/s]"
      ]
     },
     "metadata": {},
     "output_type": "display_data"
    }
   ],
   "source": [
    "converter = KM_to_Miles(10)\n",
    "converter.run(debug=False)"
   ]
  },
  {
   "cell_type": "code",
   "execution_count": 26,
   "id": "c1fa531c-a215-45d8-b6d6-cf66572e0cd8",
   "metadata": {},
   "outputs": [
    {
     "data": {
      "text/html": [
       "<div>\n",
       "<style scoped>\n",
       "    .dataframe tbody tr th:only-of-type {\n",
       "        vertical-align: middle;\n",
       "    }\n",
       "\n",
       "    .dataframe tbody tr th {\n",
       "        vertical-align: top;\n",
       "    }\n",
       "\n",
       "    .dataframe thead th {\n",
       "        text-align: right;\n",
       "    }\n",
       "</style>\n",
       "<table border=\"1\" class=\"dataframe\">\n",
       "  <thead>\n",
       "    <tr style=\"text-align: right;\">\n",
       "      <th></th>\n",
       "      <th>n_qubits</th>\n",
       "      <th>result</th>\n",
       "    </tr>\n",
       "  </thead>\n",
       "  <tbody>\n",
       "    <tr>\n",
       "      <th>0</th>\n",
       "      <td>2</td>\n",
       "      <td>3</td>\n",
       "    </tr>\n",
       "    <tr>\n",
       "      <th>1</th>\n",
       "      <td>3</td>\n",
       "      <td>5</td>\n",
       "    </tr>\n",
       "    <tr>\n",
       "      <th>2</th>\n",
       "      <td>4</td>\n",
       "      <td>8</td>\n",
       "    </tr>\n",
       "    <tr>\n",
       "      <th>3</th>\n",
       "      <td>5</td>\n",
       "      <td>13</td>\n",
       "    </tr>\n",
       "    <tr>\n",
       "      <th>4</th>\n",
       "      <td>6</td>\n",
       "      <td>21</td>\n",
       "    </tr>\n",
       "    <tr>\n",
       "      <th>5</th>\n",
       "      <td>7</td>\n",
       "      <td>34</td>\n",
       "    </tr>\n",
       "    <tr>\n",
       "      <th>6</th>\n",
       "      <td>8</td>\n",
       "      <td>55</td>\n",
       "    </tr>\n",
       "    <tr>\n",
       "      <th>7</th>\n",
       "      <td>9</td>\n",
       "      <td>88</td>\n",
       "    </tr>\n",
       "    <tr>\n",
       "      <th>8</th>\n",
       "      <td>10</td>\n",
       "      <td>142</td>\n",
       "    </tr>\n",
       "    <tr>\n",
       "      <th>9</th>\n",
       "      <td>11</td>\n",
       "      <td>215</td>\n",
       "    </tr>\n",
       "  </tbody>\n",
       "</table>\n",
       "</div>"
      ],
      "text/plain": [
       "  n_qubits result\n",
       "0        2      3\n",
       "1        3      5\n",
       "2        4      8\n",
       "3        5     13\n",
       "4        6     21\n",
       "5        7     34\n",
       "6        8     55\n",
       "7        9     88\n",
       "8       10    142\n",
       "9       11    215"
      ]
     },
     "execution_count": 26,
     "metadata": {},
     "output_type": "execute_result"
    }
   ],
   "source": [
    "quantum_results = converter.results\n",
    "quantum_results"
   ]
  },
  {
   "cell_type": "code",
   "execution_count": 27,
   "id": "5a4b31d9-5b58-4e0f-a3b5-18fd002309a7",
   "metadata": {},
   "outputs": [],
   "source": [
    "def generate_miles_km_table(iter=3):\n",
    "    return pd.DataFrame([(fibonacci(i), fibonacci(i+1)) for i in range(iter)], columns=['miles', 'km'])"
   ]
  },
  {
   "cell_type": "code",
   "execution_count": 28,
   "id": "76a50e57-ef41-4f86-bdfa-b423d1294112",
   "metadata": {},
   "outputs": [
    {
     "data": {
      "text/html": [
       "<div>\n",
       "<style scoped>\n",
       "    .dataframe tbody tr th:only-of-type {\n",
       "        vertical-align: middle;\n",
       "    }\n",
       "\n",
       "    .dataframe tbody tr th {\n",
       "        vertical-align: top;\n",
       "    }\n",
       "\n",
       "    .dataframe thead th {\n",
       "        text-align: right;\n",
       "    }\n",
       "</style>\n",
       "<table border=\"1\" class=\"dataframe\">\n",
       "  <thead>\n",
       "    <tr style=\"text-align: right;\">\n",
       "      <th></th>\n",
       "      <th>miles</th>\n",
       "      <th>km</th>\n",
       "    </tr>\n",
       "  </thead>\n",
       "  <tbody>\n",
       "    <tr>\n",
       "      <th>0</th>\n",
       "      <td>2</td>\n",
       "      <td>3</td>\n",
       "    </tr>\n",
       "    <tr>\n",
       "      <th>1</th>\n",
       "      <td>3</td>\n",
       "      <td>5</td>\n",
       "    </tr>\n",
       "    <tr>\n",
       "      <th>2</th>\n",
       "      <td>5</td>\n",
       "      <td>8</td>\n",
       "    </tr>\n",
       "    <tr>\n",
       "      <th>3</th>\n",
       "      <td>8</td>\n",
       "      <td>13</td>\n",
       "    </tr>\n",
       "    <tr>\n",
       "      <th>4</th>\n",
       "      <td>13</td>\n",
       "      <td>21</td>\n",
       "    </tr>\n",
       "    <tr>\n",
       "      <th>5</th>\n",
       "      <td>21</td>\n",
       "      <td>34</td>\n",
       "    </tr>\n",
       "    <tr>\n",
       "      <th>6</th>\n",
       "      <td>34</td>\n",
       "      <td>55</td>\n",
       "    </tr>\n",
       "    <tr>\n",
       "      <th>7</th>\n",
       "      <td>55</td>\n",
       "      <td>89</td>\n",
       "    </tr>\n",
       "    <tr>\n",
       "      <th>8</th>\n",
       "      <td>89</td>\n",
       "      <td>144</td>\n",
       "    </tr>\n",
       "    <tr>\n",
       "      <th>9</th>\n",
       "      <td>144</td>\n",
       "      <td>233</td>\n",
       "    </tr>\n",
       "  </tbody>\n",
       "</table>\n",
       "</div>"
      ],
      "text/plain": [
       "   miles   km\n",
       "0      2    3\n",
       "1      3    5\n",
       "2      5    8\n",
       "3      8   13\n",
       "4     13   21\n",
       "5     21   34\n",
       "6     34   55\n",
       "7     55   89\n",
       "8     89  144\n",
       "9    144  233"
      ]
     },
     "execution_count": 28,
     "metadata": {},
     "output_type": "execute_result"
    }
   ],
   "source": [
    "miles_km_data = generate_miles_km_table(12).loc[2:].reset_index().drop(columns=['index'])\n",
    "miles_km_data"
   ]
  },
  {
   "cell_type": "code",
   "execution_count": 29,
   "id": "b3b1b466-f190-4de9-a0c7-ffb76e641793",
   "metadata": {},
   "outputs": [
    {
     "data": {
      "text/plain": [
       "((10, 2), (10, 2))"
      ]
     },
     "execution_count": 29,
     "metadata": {},
     "output_type": "execute_result"
    }
   ],
   "source": [
    "miles_km_data.shape, quantum_results.shape"
   ]
  },
  {
   "cell_type": "code",
   "execution_count": 30,
   "id": "2a48d487-a631-4802-be6a-61843e539db6",
   "metadata": {},
   "outputs": [
    {
     "data": {
      "application/vnd.jupyter.widget-view+json": {
       "model_id": "37218874c6c34bb9863a1ed5e0b34c7a",
       "version_major": 2,
       "version_minor": 0
      },
      "text/plain": [
       "  0%|          | 0/24 [00:00<?, ?it/s]"
      ]
     },
     "metadata": {},
     "output_type": "display_data"
    },
    {
     "data": {
      "text/html": [
       "<div>\n",
       "<style scoped>\n",
       "    .dataframe tbody tr th:only-of-type {\n",
       "        vertical-align: middle;\n",
       "    }\n",
       "\n",
       "    .dataframe tbody tr th {\n",
       "        vertical-align: top;\n",
       "    }\n",
       "\n",
       "    .dataframe thead th {\n",
       "        text-align: right;\n",
       "    }\n",
       "</style>\n",
       "<table border=\"1\" class=\"dataframe\">\n",
       "  <thead>\n",
       "    <tr style=\"text-align: right;\">\n",
       "      <th></th>\n",
       "      <th>miles</th>\n",
       "      <th>km</th>\n",
       "      <th>n_qubits</th>\n",
       "      <th>result</th>\n",
       "    </tr>\n",
       "  </thead>\n",
       "  <tbody>\n",
       "    <tr>\n",
       "      <th>19</th>\n",
       "      <td>17711</td>\n",
       "      <td>28657</td>\n",
       "      <td>21</td>\n",
       "      <td>977</td>\n",
       "    </tr>\n",
       "    <tr>\n",
       "      <th>20</th>\n",
       "      <td>28657</td>\n",
       "      <td>46368</td>\n",
       "      <td>22</td>\n",
       "      <td>996</td>\n",
       "    </tr>\n",
       "    <tr>\n",
       "      <th>21</th>\n",
       "      <td>46368</td>\n",
       "      <td>75025</td>\n",
       "      <td>23</td>\n",
       "      <td>1012</td>\n",
       "    </tr>\n",
       "    <tr>\n",
       "      <th>22</th>\n",
       "      <td>75025</td>\n",
       "      <td>121393</td>\n",
       "      <td>24</td>\n",
       "      <td>1018</td>\n",
       "    </tr>\n",
       "    <tr>\n",
       "      <th>23</th>\n",
       "      <td>121393</td>\n",
       "      <td>196418</td>\n",
       "      <td>25</td>\n",
       "      <td>1012</td>\n",
       "    </tr>\n",
       "  </tbody>\n",
       "</table>\n",
       "</div>"
      ],
      "text/plain": [
       "     miles      km n_qubits result\n",
       "19   17711   28657       21    977\n",
       "20   28657   46368       22    996\n",
       "21   46368   75025       23   1012\n",
       "22   75025  121393       24   1018\n",
       "23  121393  196418       25   1012"
      ]
     },
     "execution_count": 30,
     "metadata": {},
     "output_type": "execute_result"
    }
   ],
   "source": [
    "def get_all_data(iter, converter, shots=1000):\n",
    "    miles_km = generate_miles_km_table(iter+2).loc[2:].reset_index().drop(columns=['index'])\n",
    "    \n",
    "    converter_obj = KM_to_Miles(iter)\n",
    "    converter_obj.run(shots=shots, debug=False)\n",
    "    \n",
    "    all_data = pd.concat([miles_km, converter_obj.results], axis=1)\n",
    "    return all_data\n",
    "    \n",
    "result_data = get_all_data(24, converter, shots=100000)\n",
    "result_data.tail()"
   ]
  },
  {
   "cell_type": "code",
   "execution_count": 31,
   "id": "bc62df0c-0a37-4dbd-a8e5-9f3edbf148a9",
   "metadata": {},
   "outputs": [
    {
     "data": {
      "image/png": "[encoded data removed]",
      "text/plain": [
       "<Figure size 2000x500 with 3 Axes>"
      ]
     },
     "metadata": {},
     "output_type": "display_data"
    }
   ],
   "source": [
    "fig, (ax1, ax2, ax3) = plt.subplots(1, 3, figsize=(20, 5))\n",
    "\n",
    "first_batch = result_data.loc[:8]\n",
    "ax1.plot('miles', 'km', data=first_batch)\n",
    "ax1.plot('miles', 'result', data=first_batch)\n",
    "ax1.set_title('[0:7]')\n",
    "ax1.set(xlabel=\"miles\", ylabel=\"km\")\n",
    "\n",
    "second_batch = result_data.loc[8:16]\n",
    "ax2.plot('miles', 'km', data=second_batch)\n",
    "ax2.plot('miles', 'result', data=second_batch)\n",
    "ax2.set_title('[8:15]')\n",
    "ax2.set(xlabel=\"miles\", ylabel=\"km\")\n",
    "\n",
    "third_batch = result_data.loc[16:]\n",
    "ax3.plot('miles', 'km', data=third_batch)\n",
    "ax3.plot('miles', 'result', data=third_batch)\n",
    "ax3.set_title('[16:23]')\n",
    "ax3.set(xlabel=\"miles\", ylabel=\"km\")\n",
    "\n",
    "plt.show()"
   ]
  },
  {
   "cell_type": "markdown",
   "id": "0a43e210-e099-4363-9a48-839b54f499b0",
   "metadata": {},
   "source": [
    "---"
   ]
  },
  {
   "cell_type": "code",
   "execution_count": 32,
   "id": "7ed9e8b8-68b9-4583-9e7d-70c5dae38e3e",
   "metadata": {},
   "outputs": [],
   "source": [
    "QUANTUM_BASE_NUMBERS = (3, 5, 8, 13, 21)"
   ]
  },
  {
   "cell_type": "code",
   "execution_count": 93,
   "id": "e03b10bd-9de7-4125-a8b9-478962bce28c",
   "metadata": {},
   "outputs": [
    {
     "data": {
      "text/plain": [
       "{21: 4, 13: 1, 3: 1}"
      ]
     },
     "execution_count": 93,
     "metadata": {},
     "output_type": "execute_result"
    }
   ],
   "source": [
    "def get_quantum_fib_numbers(inp_value, base_numbers=QUANTUM_BASE_NUMBERS):\n",
    "\n",
    "    breakdown_values = breakdown(inp_value, base_numbers=base_numbers)\n",
    "    remain = inp_value - sum(breakdown_values.keys()) \n",
    "    remain_values = {}\n",
    "\n",
    "    if(remain > 0):\n",
    "        REMAIN_BASE_NUMBERS = (1, 2)\n",
    "        remain_values = breakdown(remain, base_numbers=REMAIN_BASE_NUMBERS)\n",
    "        \n",
    "    return breakdown_values, remain_values\n",
    "    \n",
    "values, remain = get_quantum_fib_numbers(100)\n",
    "values"
   ]
  },
  {
   "cell_type": "code",
   "execution_count": 34,
   "id": "aa90ad7f-5d0b-4974-95ba-69d64c9167f4",
   "metadata": {},
   "outputs": [
    {
     "data": {
      "text/plain": [
       "([6, 5, 2], 6, 3)"
      ]
     },
     "execution_count": 34,
     "metadata": {},
     "output_type": "execute_result"
    }
   ],
   "source": [
    "total_n_qubits = [ get_fib_pos(i, base_numbers=QUANTUM_BASE_NUMBERS)+2 for i in values ]\n",
    "n_qubits = max(total_n_qubits)\n",
    "measures = len(total_n_qubits)\n",
    "total_n_qubits, n_qubits, measures"
   ]
  },
  {
   "cell_type": "code",
   "execution_count": 35,
   "id": "0e63600a-71ca-4b14-8466-ab1b9e25b039",
   "metadata": {},
   "outputs": [
    {
     "data": {
      "image/png": "[encoded data removed]",
      "text/plain": [
       "<Figure size 2210.55x785.944 with 1 Axes>"
      ]
     },
     "execution_count": 35,
     "metadata": {},
     "output_type": "execute_result"
    }
   ],
   "source": [
    "qubits = QuantumRegister(n_qubits, name=\"q\")\n",
    "measurements = [ClassicalRegister(cbits, name=index) for (index, cbits) in enumerate(total_n_qubits)]\n",
    "qc = QuantumCircuit(qubits, *measurements)\n",
    "\n",
    "for n, measurement in zip(total_n_qubits, measurements):\n",
    "    qc.append(Oracle(n), range(n))\n",
    "    qc.measure(range(n), measurement)\n",
    "    qc.reset(range(n))\n",
    "    qc.barrier()\n",
    "\n",
    "qc.draw('mpl')"
   ]
  },
  {
   "cell_type": "code",
   "execution_count": 39,
   "id": "6560a6a6-39be-4d6a-9397-8a2060e14060",
   "metadata": {},
   "outputs": [
    {
     "data": {
      "image/png": "[encoded data removed]",
      "text/plain": [
       "<Figure size 700x500 with 1 Axes>"
      ]
     },
     "execution_count": 39,
     "metadata": {},
     "output_type": "execute_result"
    }
   ],
   "source": [
    "def get_counts(qc, sim=AerSimulator()):\n",
    "    return sim.run(transpile(qc, sim)).result().get_counts()\n",
    "result = get_counts(qc)\n",
    "plot_histogram(result)"
   ]
  },
  {
   "cell_type": "code",
   "execution_count": 40,
   "id": "b08f5a58-762a-4535-974c-c86ad72a117b",
   "metadata": {},
   "outputs": [
    {
     "data": {
      "text/html": [
       "<div>\n",
       "<style scoped>\n",
       "    .dataframe tbody tr th:only-of-type {\n",
       "        vertical-align: middle;\n",
       "    }\n",
       "\n",
       "    .dataframe tbody tr th {\n",
       "        vertical-align: top;\n",
       "    }\n",
       "\n",
       "    .dataframe thead th {\n",
       "        text-align: right;\n",
       "    }\n",
       "</style>\n",
       "<table border=\"1\" class=\"dataframe\">\n",
       "  <thead>\n",
       "    <tr style=\"text-align: right;\">\n",
       "      <th></th>\n",
       "      <th>bit_string</th>\n",
       "      <th>total</th>\n",
       "    </tr>\n",
       "  </thead>\n",
       "  <tbody>\n",
       "    <tr>\n",
       "      <th>0</th>\n",
       "      <td>00 01001 000000</td>\n",
       "      <td>1</td>\n",
       "    </tr>\n",
       "    <tr>\n",
       "      <th>1</th>\n",
       "      <td>10 10101 101000</td>\n",
       "      <td>2</td>\n",
       "    </tr>\n",
       "    <tr>\n",
       "      <th>2</th>\n",
       "      <td>10 01010 101001</td>\n",
       "      <td>1</td>\n",
       "    </tr>\n",
       "    <tr>\n",
       "      <th>3</th>\n",
       "      <td>10 01000 010100</td>\n",
       "      <td>1</td>\n",
       "    </tr>\n",
       "    <tr>\n",
       "      <th>4</th>\n",
       "      <td>00 10101 010101</td>\n",
       "      <td>1</td>\n",
       "    </tr>\n",
       "  </tbody>\n",
       "</table>\n",
       "</div>"
      ],
      "text/plain": [
       "        bit_string  total\n",
       "0  00 01001 000000      1\n",
       "1  10 10101 101000      2\n",
       "2  10 01010 101001      1\n",
       "3  10 01000 010100      1\n",
       "4  00 10101 010101      1"
      ]
     },
     "execution_count": 40,
     "metadata": {},
     "output_type": "execute_result"
    }
   ],
   "source": [
    "bit_string = result.keys()\n",
    "total = result.values()\n",
    "data = {\"bit_string\": bit_string, 'total':total}\n",
    "\n",
    "df = pd.DataFrame(data, columns=['bit_string', 'total'])\n",
    "df.head()"
   ]
  },
  {
   "cell_type": "code",
   "execution_count": 41,
   "id": "1da37c60-71c4-48fb-a55f-25719d2269ae",
   "metadata": {},
   "outputs": [
    {
     "data": {
      "text/html": [
       "<div>\n",
       "<style scoped>\n",
       "    .dataframe tbody tr th:only-of-type {\n",
       "        vertical-align: middle;\n",
       "    }\n",
       "\n",
       "    .dataframe tbody tr th {\n",
       "        vertical-align: top;\n",
       "    }\n",
       "\n",
       "    .dataframe thead th {\n",
       "        text-align: right;\n",
       "    }\n",
       "</style>\n",
       "<table border=\"1\" class=\"dataframe\">\n",
       "  <thead>\n",
       "    <tr style=\"text-align: right;\">\n",
       "      <th></th>\n",
       "      <th>bit_string</th>\n",
       "      <th>total</th>\n",
       "      <th>bit_string0</th>\n",
       "      <th>bit_string1</th>\n",
       "      <th>bit_string2</th>\n",
       "    </tr>\n",
       "  </thead>\n",
       "  <tbody>\n",
       "    <tr>\n",
       "      <th>0</th>\n",
       "      <td>00 01001 000000</td>\n",
       "      <td>1</td>\n",
       "      <td>00</td>\n",
       "      <td>01001</td>\n",
       "      <td>000000</td>\n",
       "    </tr>\n",
       "    <tr>\n",
       "      <th>1</th>\n",
       "      <td>10 10101 101000</td>\n",
       "      <td>2</td>\n",
       "      <td>10</td>\n",
       "      <td>10101</td>\n",
       "      <td>101000</td>\n",
       "    </tr>\n",
       "    <tr>\n",
       "      <th>2</th>\n",
       "      <td>10 01010 101001</td>\n",
       "      <td>1</td>\n",
       "      <td>10</td>\n",
       "      <td>01010</td>\n",
       "      <td>101001</td>\n",
       "    </tr>\n",
       "    <tr>\n",
       "      <th>3</th>\n",
       "      <td>10 01000 010100</td>\n",
       "      <td>1</td>\n",
       "      <td>10</td>\n",
       "      <td>01000</td>\n",
       "      <td>010100</td>\n",
       "    </tr>\n",
       "    <tr>\n",
       "      <th>4</th>\n",
       "      <td>00 10101 010101</td>\n",
       "      <td>1</td>\n",
       "      <td>00</td>\n",
       "      <td>10101</td>\n",
       "      <td>010101</td>\n",
       "    </tr>\n",
       "  </tbody>\n",
       "</table>\n",
       "</div>"
      ],
      "text/plain": [
       "        bit_string  total bit_string0 bit_string1 bit_string2\n",
       "0  00 01001 000000      1          00       01001      000000\n",
       "1  10 10101 101000      2          10       10101      101000\n",
       "2  10 01010 101001      1          10       01010      101001\n",
       "3  10 01000 010100      1          10       01000      010100\n",
       "4  00 10101 010101      1          00       10101      010101"
      ]
     },
     "execution_count": 41,
     "metadata": {},
     "output_type": "execute_result"
    }
   ],
   "source": [
    "df[['bit_string0', 'bit_string1', 'bit_string2']] = df['bit_string'].str.split(' ', n=2, expand=True)\n",
    "df.head()"
   ]
  },
  {
   "cell_type": "code",
   "execution_count": 42,
   "id": "2582d42a-d071-43ab-a877-8e63efef745c",
   "metadata": {},
   "outputs": [
    {
     "data": {
      "text/plain": [
       "(3, 13, 21)"
      ]
     },
     "execution_count": 42,
     "metadata": {},
     "output_type": "execute_result"
    }
   ],
   "source": [
    "len(df['bit_string0'].unique()), len(df['bit_string1'].unique()), len(df['bit_string2'].unique())"
   ]
  },
  {
   "cell_type": "markdown",
   "id": "ecac06a4-094d-430f-a66c-17be253df867",
   "metadata": {},
   "source": [
    "now just multiply them\n",
    "\n",
    "`{21: 4, 13: 1, 3: 1}`\n",
    "\n",
    "$3 * 1  + 13 * 1 + 21 * 4$\n",
    "\n",
    "\n",
    "This operation can bee seem as a `dot product`\n",
    "\n",
    "$$\n",
    "    \\begin{pmatrix}\n",
    "    21 & 13 & 3\n",
    "    \\end{pmatrix}\n",
    "    \\begin{pmatrix}\n",
    "    4 \\\\\n",
    "    1 \\\\\n",
    "    1\n",
    "    \\end{pmatrix}\n",
    "$$\n",
    "\n",
    "$$\n",
    "\\bra{a} = \\begin{pmatrix}\n",
    "    21 & 13 & 3\n",
    "    \\end{pmatrix}\n",
    "$$\n",
    "\n",
    "$$\n",
    "\\ket{b} = \\begin{pmatrix}\n",
    "    4 \\\\\n",
    "    1 \\\\\n",
    "    1\n",
    "    \\end{pmatrix}\n",
    "$$\n",
    "\n",
    "$$\\bra{a}\\ket{b} = 3 * 1  + 13 * 1 + 21 * 4 = 100$$\n"
   ]
  }
 ],
 "metadata": {
  "kernelspec": {
   "display_name": "Python 3 (ipykernel)",
   "language": "python",
   "name": "python3"
  },
  "language_info": {
   "codemirror_mode": {
    "name": "ipython",
    "version": 3
   },
   "file_extension": ".py",
   "mimetype": "text/x-python",
   "name": "python",
   "nbconvert_exporter": "python",
   "pygments_lexer": "ipython3",
   "version": "3.8.15"
  }
 },
 "nbformat": 4,
 "nbformat_minor": 5
}
