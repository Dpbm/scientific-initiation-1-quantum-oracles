{
 "cells": [
  {
   "cell_type": "code",
   "execution_count": 97,
   "id": "16b1a865-462a-423f-8ddb-9a427d949c85",
   "metadata": {},
   "outputs": [],
   "source": [
    "%matplotlib inline\n",
    "import numpy as np\n",
    "import rustworkx\n",
    "from pprint import pprint"
   ]
  },
  {
   "cell_type": "code",
   "execution_count": 10,
   "id": "30209e91-e228-47f3-85b2-da3501b63826",
   "metadata": {},
   "outputs": [
    {
     "data": {
      "text/plain": [
       "array([[0, 0, 0],\n",
       "       [0, 0, 0],\n",
       "       [0, 0, 0]], dtype=int8)"
      ]
     },
     "execution_count": 10,
     "metadata": {},
     "output_type": "execute_result"
    }
   ],
   "source": [
    "board = np.zeros(shape=(3,3), dtype=np.int8)\n",
    "board"
   ]
  },
  {
   "cell_type": "code",
   "execution_count": 113,
   "id": "f9920780-3d2f-41c1-a6cf-3f0dcb680dbf",
   "metadata": {},
   "outputs": [],
   "source": [
    "def check_user_won(p1, p2, data):\n",
    "    all_equal = len(set(data)) == 1\n",
    "    \n",
    "    if(all_equal and data[0] == p1):\n",
    "        return(True, \"Player 1\")\n",
    "        \n",
    "    elif(all_equal and data[0] == p2):\n",
    "        return(True, \"Player 2\")\n",
    "\n",
    "    return (False, None)\n",
    "        \n",
    "        \n",
    "    \n",
    "def check_status(p1, p2, board):    \n",
    "    board_len = len(board)\n",
    "    won = False\n",
    "    who_won = None\n",
    "    draw = False\n",
    "    \n",
    "    for row in board:\n",
    "        won, who_won = check_user_won(p1, p2, row)\n",
    "        if(won): return won, who_won, draw\n",
    "    \n",
    "    for column in range(board_len):\n",
    "        column_data = [board[row][column] for row in range(board_len)]\n",
    "        won, who_won = check_user_won(p1, p2, column_data)\n",
    "        if(won): return won, who_won, draw\n",
    "\n",
    "    main_diagonal = [board[i][i] for i in range(board_len)]\n",
    "    won, who_won = check_user_won(p1, p2, main_diagonal)\n",
    "    if(won): return won, who_won, draw\n",
    "        \n",
    "    second_diagonal = [board[i][board_len - i - 1] for i in range(board_len)]\n",
    "    won, who_won = check_user_won(p1, p2, second_diagonal)    \n",
    "    if(won): return won, who_won, draw\n",
    "\n",
    "    total_filled_rows = sum([int(all(row)) for row in board])\n",
    "    draw = total_filled_rows == board_len\n",
    "    return won, who_won, draw"
   ]
  },
  {
   "cell_type": "code",
   "execution_count": 87,
   "id": "f167a334-9632-4a5d-944e-b93c81b5d079",
   "metadata": {},
   "outputs": [
    {
     "data": {
      "text/plain": [
       "array([[1, 1, 2],\n",
       "       [2, 2, 1],\n",
       "       [1, 2, 2]], dtype=int8)"
      ]
     },
     "execution_count": 87,
     "metadata": {},
     "output_type": "execute_result"
    }
   ],
   "source": [
    "board[1][1] = 2\n",
    "board[2][0] = 1\n",
    "board[1][2] = 1\n",
    "board[2][2] = 2\n",
    "board[2][0] = 1\n",
    "board[1][0] = 2\n",
    "board[2][1] = 2\n",
    "board"
   ]
  },
  {
   "cell_type": "code",
   "execution_count": 114,
   "id": "126fa67c-467a-4e29-869d-c6f8bc9b596e",
   "metadata": {},
   "outputs": [
    {
     "data": {
      "text/plain": [
       "(False, None, True)"
      ]
     },
     "execution_count": 114,
     "metadata": {},
     "output_type": "execute_result"
    }
   ],
   "source": [
    "check_status(1, 2, board.tolist())"
   ]
  },
  {
   "cell_type": "code",
   "execution_count": 123,
   "id": "9dbdfaed-575b-4141-bb04-f3a7db2b1db8",
   "metadata": {},
   "outputs": [],
   "source": [
    "def show_board(board):\n",
    "    pprint(board, width=30)\n",
    "    \n",
    "def play(player_1, player_2):\n",
    "    board = np.zeros(shape=(3,3), dtype=np.int8)\n",
    "    show_board(board.tolist())\n",
    "\n",
    "    while(True):\n",
    "        for player_id, player_number in enumerate([player_1, player_2]):\n",
    "            player_x, player_y = (int(i) for i in input(f\"Player {player_id+1} play: \").split())\n",
    "            board[player_x][player_y] = player_number\n",
    "            show_board(board.tolist())\n",
    "            \n",
    "            won, who_won, draw = check_status(player_1, player_2, board)\n",
    "            if(won):\n",
    "                print(f\"{who_won} won!\")\n",
    "                return\n",
    "            elif(draw):\n",
    "                print(\"Draw\")\n",
    "                return"
   ]
  },
  {
   "cell_type": "code",
   "execution_count": 122,
   "id": "a7dfa61b-d634-4d57-9fca-4af9895f7ceb",
   "metadata": {},
   "outputs": [
    {
     "name": "stdout",
     "output_type": "stream",
     "text": [
      "[[0, 0, 0],\n",
      " [0, 0, 0],\n",
      " [0, 0, 0]]\n"
     ]
    },
    {
     "name": "stdin",
     "output_type": "stream",
     "text": [
      "Player 1 play:  0 0\n"
     ]
    },
    {
     "name": "stdout",
     "output_type": "stream",
     "text": [
      "[[1, 0, 0],\n",
      " [0, 0, 0],\n",
      " [0, 0, 0]]\n"
     ]
    },
    {
     "name": "stdin",
     "output_type": "stream",
     "text": [
      "Player 2 play:  0 1\n"
     ]
    },
    {
     "name": "stdout",
     "output_type": "stream",
     "text": [
      "[[1, 2, 0],\n",
      " [0, 0, 0],\n",
      " [0, 0, 0]]\n"
     ]
    },
    {
     "name": "stdin",
     "output_type": "stream",
     "text": [
      "Player 1 play:  1 1\n"
     ]
    },
    {
     "name": "stdout",
     "output_type": "stream",
     "text": [
      "[[1, 2, 0],\n",
      " [0, 1, 0],\n",
      " [0, 0, 0]]\n"
     ]
    },
    {
     "name": "stdin",
     "output_type": "stream",
     "text": [
      "Player 2 play:  0 2\n"
     ]
    },
    {
     "name": "stdout",
     "output_type": "stream",
     "text": [
      "[[1, 2, 2],\n",
      " [0, 1, 0],\n",
      " [0, 0, 0]]\n"
     ]
    },
    {
     "name": "stdin",
     "output_type": "stream",
     "text": [
      "Player 1 play:  2 2\n"
     ]
    },
    {
     "name": "stdout",
     "output_type": "stream",
     "text": [
      "[[1, 2, 2],\n",
      " [0, 1, 0],\n",
      " [0, 0, 1]]\n",
      "Player 1 won!\n"
     ]
    }
   ],
   "source": [
    "play(1, 2)"
   ]
  }
 ],
 "metadata": {
  "kernelspec": {
   "display_name": "Python 3 (ipykernel)",
   "language": "python",
   "name": "python3"
  },
  "language_info": {
   "codemirror_mode": {
    "name": "ipython",
    "version": 3
   },
   "file_extension": ".py",
   "mimetype": "text/x-python",
   "name": "python",
   "nbconvert_exporter": "python",
   "pygments_lexer": "ipython3",
   "version": "3.8.15"
  }
 },
 "nbformat": 4,
 "nbformat_minor": 5
}
