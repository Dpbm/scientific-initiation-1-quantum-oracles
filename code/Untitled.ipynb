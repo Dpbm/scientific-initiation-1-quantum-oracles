{
 "cells": [
  {
   "cell_type": "code",
   "execution_count": 60,
   "id": "794ecdc0-3ce0-4983-b71a-48ed970d9c5d",
   "metadata": {},
   "outputs": [],
   "source": [
    "%matplotlib inline\n",
    "from qiskit import QuantumCircuit, transpile\n",
    "from qiskit.visualization import plot_histogram, array_to_latex\n",
    "from qiskit_aer import AerSimulator\n",
    "import matplotlib.pyplot as plt\n",
    "import numpy as np"
   ]
  },
  {
   "cell_type": "code",
   "execution_count": 3,
   "id": "0421f810-f8dd-48b2-962c-e09ad8d3824c",
   "metadata": {},
   "outputs": [],
   "source": [
    "PI = np.pi"
   ]
  },
  {
   "cell_type": "code",
   "execution_count": 61,
   "id": "799f096d-6f52-47c9-884b-236e53e9800d",
   "metadata": {},
   "outputs": [],
   "source": [
    "class Oracle(QuantumCircuit):\n",
    "    def __init__(self, n_qubits):\n",
    "        assert n_qubits >= 2, \"Invalid number of qubits!\"\n",
    "        self.n_qubits = n_qubits\n",
    "        super().__init__(n_qubits, name=\"oracle\")\n",
    "        self.generate()\n",
    "        \n",
    "    def generate(self):\n",
    "        self.ry(PI/2, range(self.n_qubits))\n",
    "        for i in range(self.n_qubits-1):\n",
    "            self.cry(-PI/2, i, i+1)\n",
    "\n",
    "    def get_unitary(self, backend=AerSimulator()):\n",
    "        qc_copy = self.copy()\n",
    "        qc_copy.save_unitary()\n",
    "        transpiled_qc = transpile(qc_copy, backend)\n",
    "        return backend.run(transpiled_qc).result().get_unitary()"
   ]
  },
  {
   "cell_type": "code",
   "execution_count": 66,
   "id": "d97fa1ac-d53c-40cb-b309-67421eba5d06",
   "metadata": {},
   "outputs": [
    {
     "data": {
      "image/png": "[encoded data removed]",
      "text/plain": [
       "<Figure size 370.906x200.667 with 1 Axes>"
      ]
     },
     "metadata": {},
     "output_type": "display_data"
    }
   ],
   "source": [
    "oracle = Oracle(2)\n",
    "oracle.ry(PI/2, range(2))\n",
    "display(oracle.draw('mpl'))\n",
    "unitary = oracle.get_unitary()"
   ]
  },
  {
   "cell_type": "code",
   "execution_count": 67,
   "id": "97cfa873-2247-48fc-b123-7122af3c21f0",
   "metadata": {},
   "outputs": [
    {
     "data": {
      "text/latex": [
       "$$\n",
       "\n",
       "\\begin{bmatrix}\n",
       "- \\frac{\\sqrt{2}}{4} & - \\frac{\\sqrt{2}}{4} & -0.1464466094 & 0.8535533906  \\\\\n",
       " \\frac{\\sqrt{2}}{4} & \\frac{\\sqrt{2}}{4} & -0.8535533906 & 0.1464466094  \\\\\n",
       " 0.1464466094 & -0.8535533906 & - \\frac{\\sqrt{2}}{4} & - \\frac{\\sqrt{2}}{4}  \\\\\n",
       " 0.8535533906 & -0.1464466094 & \\frac{\\sqrt{2}}{4} & \\frac{\\sqrt{2}}{4}  \\\\\n",
       " \\end{bmatrix}\n",
       "$$"
      ],
      "text/plain": [
       "<IPython.core.display.Latex object>"
      ]
     },
     "execution_count": 67,
     "metadata": {},
     "output_type": "execute_result"
    }
   ],
   "source": [
    "array_to_latex(unitary, max_size=10000)"
   ]
  }
 ],
 "metadata": {
  "kernelspec": {
   "display_name": "Python 3 (ipykernel)",
   "language": "python",
   "name": "python3"
  },
  "language_info": {
   "codemirror_mode": {
    "name": "ipython",
    "version": 3
   },
   "file_extension": ".py",
   "mimetype": "text/x-python",
   "name": "python",
   "nbconvert_exporter": "python",
   "pygments_lexer": "ipython3",
   "version": "3.8.15"
  }
 },
 "nbformat": 4,
 "nbformat_minor": 5
}
