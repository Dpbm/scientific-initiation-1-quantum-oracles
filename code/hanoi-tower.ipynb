{
 "cells": [
  {
   "cell_type": "code",
   "execution_count": 25,
   "id": "2c760e58-0d49-45ef-b3bc-ca07903491c2",
   "metadata": {},
   "outputs": [],
   "source": [
    "%matplotlib inline\n",
    "from pprint import pprint"
   ]
  },
  {
   "cell_type": "markdown",
   "id": "f67f90e0-e08d-478c-acd0-f8cbcb9611fe",
   "metadata": {},
   "source": [
    "[![Hanoi Tower](https://upload.wikimedia.org/wikipedia/commons/thumb/0/07/Tower_of_Hanoi.jpeg/450px-Tower_of_Hanoi.jpeg)](https://en.wikipedia.org/wiki/Tower_of_Hanoi)"
   ]
  },
  {
   "cell_type": "code",
   "execution_count": 27,
   "id": "601a3736-52de-4be9-a8de-bacc3e6c537e",
   "metadata": {},
   "outputs": [
    {
     "name": "stdout",
     "output_type": "stream",
     "text": [
      "[[0, 1, 2, 3],\n",
      " [],\n",
      " []]\n"
     ]
    }
   ],
   "source": [
    "towers = [list(range(4)), [], []]\n",
    "pprint(towers, width=20)"
   ]
  },
  {
   "cell_type": "code",
   "execution_count": null,
   "id": "3bbd9f80-c68a-46c4-aac8-ad07f3ece84f",
   "metadata": {},
   "outputs": [],
   "source": [
    "def hanoi(tower1, tower2, tower3):\n",
    "    "
   ]
  }
 ],
 "metadata": {
  "kernelspec": {
   "display_name": "Python 3 (ipykernel)",
   "language": "python",
   "name": "python3"
  },
  "language_info": {
   "codemirror_mode": {
    "name": "ipython",
    "version": 3
   },
   "file_extension": ".py",
   "mimetype": "text/x-python",
   "name": "python",
   "nbconvert_exporter": "python",
   "pygments_lexer": "ipython3",
   "version": "3.8.15"
  }
 },
 "nbformat": 4,
 "nbformat_minor": 5
}
