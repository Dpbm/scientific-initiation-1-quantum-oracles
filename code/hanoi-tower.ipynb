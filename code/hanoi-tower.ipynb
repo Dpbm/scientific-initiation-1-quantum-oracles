{
 "cells": [
  {
   "cell_type": "code",
   "execution_count": 40,
   "id": "2c760e58-0d49-45ef-b3bc-ca07903491c2",
   "metadata": {},
   "outputs": [],
   "source": [
    "%matplotlib inline\n",
    "from pprint import pprint\n",
    "from qiskit.quantum_info import Statevector\n",
    "from qiskit import QuantumCircuit, QuantumRegister,transpile\n",
    "from qiskit.visualization import array_to_latex\n",
    "from qiskit_aer import AerSimulator\n",
    "import numpy as np"
   ]
  },
  {
   "cell_type": "markdown",
   "id": "f67f90e0-e08d-478c-acd0-f8cbcb9611fe",
   "metadata": {},
   "source": [
    "[![Hanoi Tower](https://upload.wikimedia.org/wikipedia/commons/thumb/0/07/Tower_of_Hanoi.jpeg/450px-Tower_of_Hanoi.jpeg)](https://en.wikipedia.org/wiki/Tower_of_Hanoi)\n",
    "\n",
    "[![Hanoi Tower steps](https://upload.wikimedia.org/wikipedia/commons/thumb/8/8d/Iterative_algorithm_solving_a_6_disks_Tower_of_Hanoi.gif/330px-Iterative_algorithm_solving_a_6_disks_Tower_of_Hanoi.gif)](https://en.wikipedia.org/wiki/Tower_of_Hanoi)"
   ]
  },
  {
   "cell_type": "markdown",
   "id": "79015dd6-0310-4a63-8658-d6c225f641c2",
   "metadata": {},
   "source": [
    "| one   | two   | three |\n",
    "|-------|-------|-------|\n",
    "|$1\\to3$|$1\\to2$|$1\\to2$| \n",
    "|       |$1\\to3$|$1\\to3$|\n",
    "|       |$2\\to3$|$2\\to3$|\n",
    "|       |       |$1\\to3$|\n",
    "|       |       |$3\\to2$|\n",
    "|       |       |$3\\to1$|\n",
    "|       |       |$2\\to1$|\n",
    "|       |       |$2\\to3$|\n",
    "|       |       |$1\\to2$|\n",
    "|       |       |$1\\to3$|\n",
    "|       |       |$2\\to3$|"
   ]
  },
  {
   "cell_type": "code",
   "execution_count": 7,
   "id": "4dda5965-f5a5-4282-845a-1d232c69ae94",
   "metadata": {},
   "outputs": [],
   "source": [
    "def hanoi(disc, start, aux, end, steps):\n",
    "    if(disc == 0):\n",
    "        return\n",
    "\n",
    "    hanoi(disc-1, start, end, aux, steps)\n",
    "    steps.append((disc,  start, end))\n",
    "    hanoi(disc-1, aux, start, end, steps)\n",
    "    return steps"
   ]
  },
  {
   "cell_type": "code",
   "execution_count": 17,
   "id": "ac9c2694-457f-4837-a2e8-1d9bfdae2cba",
   "metadata": {},
   "outputs": [
    {
     "name": "stdout",
     "output_type": "stream",
     "text": [
      "[(1, 0, 1),\n",
      " (2, 0, 2),\n",
      " (1, 1, 2)]\n"
     ]
    }
   ],
   "source": [
    "steps = hanoi(2, 0, 1, 2, [])\n",
    "pprint(steps, width=20)"
   ]
  },
  {
   "cell_type": "raw",
   "id": "178a32c2-411c-4d24-9fc4-a0036d725f58",
   "metadata": {},
   "source": [
    "1  |  |\n",
    "2  |  |\n",
    "\n",
    "|  |  |\n",
    "2  1  |\n",
    "\n",
    "|  |  |\n",
    "|  1  2\n",
    "\n",
    "|  |  1\n",
    "|  |  2"
   ]
  },
  {
   "cell_type": "code",
   "execution_count": 29,
   "id": "a86bc7a2-016f-4c9b-9a23-3c6b53d4131c",
   "metadata": {},
   "outputs": [
    {
     "name": "stdout",
     "output_type": "stream",
     "text": [
      "[(1, 0, 2),\n",
      " (2, 0, 1),\n",
      " (1, 2, 1),\n",
      " (3, 0, 2),\n",
      " (1, 1, 0),\n",
      " (2, 1, 2),\n",
      " (1, 0, 2)]\n"
     ]
    }
   ],
   "source": [
    "steps_for_3 = hanoi(3, 0, 1, 2, [])\n",
    "pprint(steps_for_3, width=20)"
   ]
  },
  {
   "cell_type": "code",
   "execution_count": 31,
   "id": "1e2aef61-5ae5-47f6-bbaa-06c8c3329923",
   "metadata": {},
   "outputs": [
    {
     "name": "stdout",
     "output_type": "stream",
     "text": [
      "[[3, 2], [], [1]]\n",
      "[[3], [2], [1]]\n",
      "[[3], [2, 1], []]\n",
      "[[], [2, 1], [3]]\n",
      "[[1], [2], [3]]\n",
      "[[1], [], [3, 2]]\n",
      "[[], [], [3, 2, 1]]\n",
      "result:  [[], [], [3, 2, 1]]\n"
     ]
    }
   ],
   "source": [
    "def hanoi_solver(towers, steps):\n",
    "    for _, from_, to_ in steps:\n",
    "        \n",
    "        value = towers[from_].pop()\n",
    "        towers[to_].append(value)\n",
    "        print(towers)\n",
    "\n",
    "towers = [list(range(3, 0, -1)), [], []]\n",
    "hanoi_solver(towers, steps_for_3)\n",
    "print('result: ', towers)"
   ]
  },
  {
   "cell_type": "markdown",
   "id": "13095337-4273-49c0-a6f5-cb8de38d6f17",
   "metadata": {},
   "source": [
    "---"
   ]
  },
  {
   "cell_type": "code",
   "execution_count": 43,
   "id": "aec2b7c1-2b06-49c8-a82d-ee000230dfd9",
   "metadata": {},
   "outputs": [
    {
     "name": "stderr",
     "output_type": "stream",
     "text": [
      "/home/alexandre/.asdf/installs/python/miniconda3-4.7.12/envs/quantum-oracles/lib/python3.8/site-packages/qiskit/visualization/circuit/matplotlib.py:266: FutureWarning: The default matplotlib drawer scheme will be changed to \"iqp\" in a following release. To silence this warning, specify the current default explicitly as style=\"clifford\", or the new default as style=\"iqp\".\n",
      "  self._style, def_font_ratio = load_style(self._style)\n"
     ]
    },
    {
     "data": {
      "image/png": "[encoded data removed]",
      "text/plain": [
       "<Figure size 1123.61x284.278 with 1 Axes>"
      ]
     },
     "execution_count": 43,
     "metadata": {},
     "output_type": "execute_result"
    }
   ],
   "source": [
    "def generate_hanoi_u(total_discs=3, n_qubits=3):\n",
    "    assert total_discs <= 2**n_qubits, \"Invalid size\"\n",
    "    \n",
    "    tower = QuantumCircuit(n_qubits, name=\"hanoi U\")\n",
    "\n",
    "    for i in range(1, total_discs+1):\n",
    "        binary = f\"{i:03b}\"[::-1]\n",
    "        zeros = [ i for i,v in enumerate(binary) if v=='0']\n",
    "        tower.x(zeros)\n",
    "        tower.mcp(np.pi, list(range(1, n_qubits)), 0)\n",
    "        tower.x(zeros)\n",
    "        tower.barrier()\n",
    "    \n",
    "    return tower\n",
    "\n",
    "tower = generate_hanoi_u()\n",
    "tower.draw('mpl')"
   ]
  },
  {
   "cell_type": "code",
   "execution_count": 44,
   "id": "e4327df3-6286-419d-9679-666b88786e8d",
   "metadata": {},
   "outputs": [
    {
     "data": {
      "text/latex": [
       "$$\n",
       "\n",
       "\\begin{bmatrix}\n",
       "1 & 0 & 0 & 0 & 0 & 0 & 0 & 0  \\\\\n",
       " 0 & -1 & 0 & 0 & 0 & 0 & 0 & 0  \\\\\n",
       " 0 & 0 & -1 & 0 & 0 & 0 & 0 & 0  \\\\\n",
       " 0 & 0 & 0 & -1 & 0 & 0 & 0 & 0  \\\\\n",
       " 0 & 0 & 0 & 0 & 1 & 0 & 0 & 0  \\\\\n",
       " 0 & 0 & 0 & 0 & 0 & 1 & 0 & 0  \\\\\n",
       " 0 & 0 & 0 & 0 & 0 & 0 & 1 & 0  \\\\\n",
       " 0 & 0 & 0 & 0 & 0 & 0 & 0 & 1  \\\\\n",
       " \\end{bmatrix}\n",
       "$$"
      ],
      "text/plain": [
       "<IPython.core.display.Latex object>"
      ]
     },
     "metadata": {},
     "output_type": "display_data"
    }
   ],
   "source": [
    "def get_unitary(qc, sim=AerSimulator()):\n",
    "    qc_copy = qc.copy()\n",
    "    qc_copy.save_unitary()\n",
    "    result = sim.run(transpile(qc_copy, sim), shots=1000).result().get_unitary()\n",
    "    display(array_to_latex(result, max_size=10000))\n",
    "\n",
    "get_unitary(tower)"
   ]
  },
  {
   "cell_type": "code",
   "execution_count": 53,
   "id": "810cfa0c-9f8c-4e6f-8798-5a7b2bb3f4de",
   "metadata": {},
   "outputs": [
    {
     "data": {
      "image/png": "[encoded data removed]",
      "text/plain": [
       "<Figure size 405.963x785.944 with 1 Axes>"
      ]
     },
     "execution_count": 53,
     "metadata": {},
     "output_type": "execute_result"
    }
   ],
   "source": [
    "source = QuantumRegister(3, name=\"src\")\n",
    "aux = QuantumRegister(3, name=\"aux\")\n",
    "target = QuantumRegister(3, name=\"tar\")\n",
    "\n",
    "qc = QuantumCircuit(source, aux, target)\n",
    "\n",
    "qc.h(source)\n",
    "qc.append(tower, source)\n",
    "\n",
    "qc.draw('mpl')"
   ]
  },
  {
   "cell_type": "code",
   "execution_count": 55,
   "id": "5d1ed6ed-2042-4c7a-b3c3-edbd93d9ee8c",
   "metadata": {},
   "outputs": [
    {
     "data": {
      "text/latex": [
       "$$\\frac{\\sqrt{2}}{4} |000000000\\rangle- \\frac{\\sqrt{2}}{4} |000000001\\rangle- \\frac{\\sqrt{2}}{4} |000000010\\rangle- \\frac{\\sqrt{2}}{4} |000000011\\rangle+\\frac{\\sqrt{2}}{4} |000000100\\rangle+\\frac{\\sqrt{2}}{4} |000000101\\rangle+\\frac{\\sqrt{2}}{4} |000000110\\rangle+\\frac{\\sqrt{2}}{4} |000000111\\rangle$$"
      ],
      "text/plain": [
       "<IPython.core.display.Latex object>"
      ]
     },
     "execution_count": 55,
     "metadata": {},
     "output_type": "execute_result"
    }
   ],
   "source": [
    "Statevector(qc).draw('latex')"
   ]
  }
 ],
 "metadata": {
  "kernelspec": {
   "display_name": "Python 3 (ipykernel)",
   "language": "python",
   "name": "python3"
  },
  "language_info": {
   "codemirror_mode": {
    "name": "ipython",
    "version": 3
   },
   "file_extension": ".py",
   "mimetype": "text/x-python",
   "name": "python",
   "nbconvert_exporter": "python",
   "pygments_lexer": "ipython3",
   "version": "3.8.15"
  }
 },
 "nbformat": 4,
 "nbformat_minor": 5
}
