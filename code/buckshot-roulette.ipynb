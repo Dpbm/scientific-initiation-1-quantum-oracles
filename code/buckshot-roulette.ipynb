{
 "cells": [
  {
   "cell_type": "code",
   "execution_count": 245,
   "id": "be8ee858-5049-4c4c-ad17-52ab4e3fa640",
   "metadata": {},
   "outputs": [],
   "source": [
    "%matplotlib inline\n",
    "from qiskit import QuantumCircuit, transpile\n",
    "from qiskit.visualization import plot_distribution, array_to_latex, plot_bloch_multivector\n",
    "from qiskit.primitives import Sampler\n",
    "from qiskit.quantum_info import Statevector\n",
    "from qiskit.circuit import Parameter\n",
    "from qiskit_aer import AerSimulator\n",
    "from qiskit.quantum_info.operators import Operator\n",
    "import numpy as np\n",
    "import matplotlib.pyplot as plt\n",
    "from abc import ABC, abstractmethod\n",
    "import pandas as pd"
   ]
  },
  {
   "cell_type": "markdown",
   "id": "ef6f7407-d705-4a1d-b954-8cfc827df78f",
   "metadata": {},
   "source": [
    "![diagram](./assets/buckshot-roulette-diagram.png)"
   ]
  },
  {
   "cell_type": "code",
   "execution_count": 288,
   "id": "65e6c1c6-2add-4aa7-890a-6d83c6b7c0ff",
   "metadata": {},
   "outputs": [],
   "source": [
    "class Shotgun:\n",
    "    total_full = 0\n",
    "    total_blank = 0\n",
    "    \n",
    "    def __init__(self, total_full:int, total_blank:int):\n",
    "        self.total_full = total_full\n",
    "        self.total_blank = total_blank\n",
    "\n",
    "    def shoot(self, who:Player) -> str:\n",
    "        v = self.total_full + self.total_blank\n",
    "\n",
    "        random_value = np.random.randint(1, v+1)\n",
    "        shot = random_value <= self.total_full\n",
    "\n",
    "        if(shot):\n",
    "            self.total_full -= 1\n",
    "            who.update_life()\n",
    "        else:\n",
    "            self.total_blank -= 1\n",
    "            \n",
    "        return \"blank\" if not shot else \"full\""
   ]
  },
  {
   "cell_type": "code",
   "execution_count": 289,
   "id": "19e481b1-6aa2-41f7-8404-767ae70b0260",
   "metadata": {},
   "outputs": [],
   "source": [
    "class Player(ABC):\n",
    "    life = 0\n",
    "    actions = []\n",
    "    name = \"\"\n",
    "\n",
    "    def __init__(self, name):\n",
    "        self.name = name\n",
    "    \n",
    "    def update_actions(self, last_action:str):\n",
    "        self.actions.append(last_action)\n",
    "    \n",
    "    def update_life(self):\n",
    "        self.life -= 1\n",
    "\n",
    "    @property\n",
    "    def total_life_lost(self) -> int:\n",
    "        return abs(self.life)\n",
    "    \n",
    "    @abstractmethod\n",
    "    def play(self, gun:Shotgun, removed_blank:int, removed_full:int, oponent:Player) -> (str, int):\n",
    "        pass"
   ]
  },
  {
   "cell_type": "code",
   "execution_count": 290,
   "id": "39e62cb8-0d3c-47a8-a2a5-e90773a22249",
   "metadata": {},
   "outputs": [],
   "source": [
    "class Person(Player):\n",
    "    def play(\n",
    "        self, \n",
    "        gun:Shotgun,\n",
    "        removed_blank:int, \n",
    "        removed_full:int, \n",
    "        oponent:Player\n",
    "    ) -> (str, int):\n",
    "        \n",
    "        action = None\n",
    "        result = None\n",
    "        \n",
    "        if(removed_blank == 0 and removed_full == 0):\n",
    "            result = gun.shoot(self)\n",
    "            action = \"himself\"\n",
    "        else:\n",
    "            result = gun.shoot(oponent)\n",
    "            action = \"shoot\"\n",
    "        \n",
    "        \"\"\"\n",
    "        if(np.random.randint(0,2)):\n",
    "            result = gun.shoot(oponent)\n",
    "            action = \"shoot\"\n",
    "        else:\n",
    "            result = gun.shoot(self)\n",
    "            action = \"himself\"\n",
    "        \"\"\"\n",
    "        self.update_actions(action)\n",
    "        return action, result"
   ]
  },
  {
   "cell_type": "code",
   "execution_count": 291,
   "id": "8b01a6e1-ef24-4586-affd-0d27890db52a",
   "metadata": {},
   "outputs": [],
   "source": [
    "class Dealer(Player):\n",
    "    def play(\n",
    "        self, \n",
    "        gun:Shotgun,\n",
    "        removed_blank:int, \n",
    "        removed_full:int, \n",
    "        oponent:Player\n",
    "    ) -> str:\n",
    "\n",
    "        action = None\n",
    "        result = None\n",
    "        \n",
    "        if(np.random.randint(0,2)):\n",
    "            result = gun.shoot(oponent)\n",
    "            action = \"shoot\"\n",
    "        else:\n",
    "            result = gun.shoot(self)\n",
    "            action = \"himself\"\n",
    "        self.update_actions(action)\n",
    "        return action, result"
   ]
  },
  {
   "cell_type": "code",
   "execution_count": 293,
   "id": "cfe9846f-0d31-4c93-8cd0-25cc3b23615b",
   "metadata": {},
   "outputs": [
    {
     "data": {
      "text/html": [
       "<div>\n",
       "<style scoped>\n",
       "    .dataframe tbody tr th:only-of-type {\n",
       "        vertical-align: middle;\n",
       "    }\n",
       "\n",
       "    .dataframe tbody tr th {\n",
       "        vertical-align: top;\n",
       "    }\n",
       "\n",
       "    .dataframe thead th {\n",
       "        text-align: right;\n",
       "    }\n",
       "</style>\n",
       "<table border=\"1\" class=\"dataframe\">\n",
       "  <thead>\n",
       "    <tr style=\"text-align: right;\">\n",
       "      <th></th>\n",
       "      <th>player_win</th>\n",
       "      <th>dealer_win</th>\n",
       "      <th>total_rounds</th>\n",
       "    </tr>\n",
       "  </thead>\n",
       "  <tbody>\n",
       "    <tr>\n",
       "      <th>0</th>\n",
       "      <td>0</td>\n",
       "      <td>1</td>\n",
       "      <td>0</td>\n",
       "    </tr>\n",
       "    <tr>\n",
       "      <th>1</th>\n",
       "      <td>1</td>\n",
       "      <td>0</td>\n",
       "      <td>0</td>\n",
       "    </tr>\n",
       "    <tr>\n",
       "      <th>2</th>\n",
       "      <td>1</td>\n",
       "      <td>0</td>\n",
       "      <td>2</td>\n",
       "    </tr>\n",
       "    <tr>\n",
       "      <th>3</th>\n",
       "      <td>1</td>\n",
       "      <td>0</td>\n",
       "      <td>0</td>\n",
       "    </tr>\n",
       "    <tr>\n",
       "      <th>4</th>\n",
       "      <td>1</td>\n",
       "      <td>0</td>\n",
       "      <td>0</td>\n",
       "    </tr>\n",
       "  </tbody>\n",
       "</table>\n",
       "</div>"
      ],
      "text/plain": [
       "   player_win  dealer_win  total_rounds\n",
       "0           0           1             0\n",
       "1           1           0             0\n",
       "2           1           0             2\n",
       "3           1           0             0\n",
       "4           1           0             0"
      ]
     },
     "execution_count": 293,
     "metadata": {},
     "output_type": "execute_result"
    }
   ],
   "source": [
    "class Game:\n",
    "    gun = None\n",
    "    removed_blank = 0\n",
    "    removed_full = 0\n",
    "    total_full = 0\n",
    "    total_blan = 0\n",
    "    total_rounds = 0\n",
    "    player = None \n",
    "    dealer = None \n",
    "    next_player = None\n",
    "    n = 0\n",
    "    statistics = pd.DataFrame(columns=(\"player_win\", \"dealer_win\", \"total_rounds\"))\n",
    "    \n",
    "    \n",
    "    def __init__(self, n:int, total_full:int, total_blank:int):\n",
    "        self.total_full = total_full\n",
    "        self.total_blank = total_blank\n",
    "        self.total_rounds = total_full+total_blank\n",
    "        self.n = n\n",
    "        self.statistics.reset_index()\n",
    "\n",
    "    def start_actors(self):\n",
    "        self.gun = Shotgun(self.total_full, self.total_blank)\n",
    "        self.player = Person(\"player\")\n",
    "        self.dealer = Dealer(\"dealer\")\n",
    "        self.next_player = self.player\n",
    "        \n",
    "\n",
    "    def run_game(self) -> pd.DataFrame:\n",
    "        for i in range(self.n):\n",
    "            self.start_actors()\n",
    "            for round in range(self.total_rounds):\n",
    "                #print(f\"round {round}: \", end=\" \")\n",
    "                action, result = self.next_player.play(self.gun, self.removed_blank, self.removed_full, self.get_oponent())\n",
    "    \n",
    "                if(result == \"blank\"):\n",
    "                    self.removed_blank += 1\n",
    "                else:\n",
    "                    self.removed_full += 1\n",
    "                \n",
    "                #print(f\"{self.next_player.name} --> {action}, {result}\")\n",
    "    \n",
    "                if(action != \"himself\"):\n",
    "                    self.next_player = self.get_oponent()\n",
    "                #print(self.player.total_life_lost, self.dealer.total_life_lost, self.total_full)\n",
    "                \n",
    "                if(self.player.total_life_lost == self.total_full):\n",
    "                    #print(\"dealer wins\")\n",
    "                    self.statistics.loc[i] = {'dealer_win':1, 'player_win':0, 'total_rounds':round}                    \n",
    "                    break\n",
    "                elif(self.dealer.total_life_lost == self.total_full):\n",
    "                    #print(\"player wins\")\n",
    "                    self.statistics.loc[i] = {'dealer_win':0, 'player_win':1, 'total_rounds':round}                    \n",
    "                    break\n",
    "            #print()\n",
    "        return self.statistics\n",
    "            \n",
    "\n",
    "    def get_oponent(self):\n",
    "        if(self.next_player == self.player):\n",
    "            return self.dealer\n",
    "        else:\n",
    "            return self.player\n",
    "\n",
    "results = Game(1000, 1,2).run_game()\n",
    "results.head()"
   ]
  },
  {
   "cell_type": "code",
   "execution_count": 296,
   "id": "dee31b9b-43a9-4df6-b317-53969eb310e5",
   "metadata": {},
   "outputs": [
    {
     "name": "stdout",
     "output_type": "stream",
     "text": [
      "745 255\n"
     ]
    }
   ],
   "source": [
    "print(len(results[results['player_win'] == 1]), len(results[results['dealer_win'] == 1]))"
   ]
  },
  {
   "cell_type": "code",
   "execution_count": 317,
   "id": "5ab0798e-1fca-4cb4-a2aa-b34f0328c589",
   "metadata": {},
   "outputs": [],
   "source": [
    "def compare_results(n):\n",
    "    df = pd.DataFrame(columns=(\"player_total_wins\", \"dealer_total_wins\"))\n",
    "    df.reset_index()\n",
    "    for i in range(n):\n",
    "        result = Game(100, 1, 2).run_game()\n",
    "        df.loc[i] = {\"player_total_wins\":len(results[results['player_win'] == 1]), \"dealer_total_wins\":len(results[results['dealer_win'] == 1])}\n",
    "    \n",
    "    plt.plot(df)\n",
    "    plt.legend(df.columns, loc=\"upper right\")\n",
    "    plt.show()"
   ]
  },
  {
   "cell_type": "code",
   "execution_count": 320,
   "id": "d93b978f-bbd2-49f8-9819-50cd706b8b9b",
   "metadata": {},
   "outputs": [
    {
     "data": {
      "image/png": "[encoded data removed]",
      "text/plain": [
       "<Figure size 640x480 with 1 Axes>"
      ]
     },
     "metadata": {},
     "output_type": "display_data"
    }
   ],
   "source": [
    "compare_results(100)"
   ]
  }
 ],
 "metadata": {
  "kernelspec": {
   "display_name": "Python 3 (ipykernel)",
   "language": "python",
   "name": "python3"
  },
  "language_info": {
   "codemirror_mode": {
    "name": "ipython",
    "version": 3
   },
   "file_extension": ".py",
   "mimetype": "text/x-python",
   "name": "python",
   "nbconvert_exporter": "python",
   "pygments_lexer": "ipython3",
   "version": "3.8.15"
  }
 },
 "nbformat": 4,
 "nbformat_minor": 5
}
