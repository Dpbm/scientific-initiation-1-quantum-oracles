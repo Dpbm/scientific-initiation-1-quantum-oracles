{
 "cells": [
  {
   "cell_type": "code",
   "execution_count": 3,
   "id": "be8ee858-5049-4c4c-ad17-52ab4e3fa640",
   "metadata": {},
   "outputs": [],
   "source": [
    "%matplotlib inline\n",
    "from qiskit import QuantumCircuit, transpile\n",
    "from qiskit.visualization import plot_distribution, array_to_latex, plot_bloch_multivector\n",
    "from qiskit.primitives import Sampler\n",
    "from qiskit.quantum_info import Statevector\n",
    "from qiskit.circuit import Parameter\n",
    "from qiskit_aer import AerSimulator\n",
    "from qiskit.quantum_info.operators import Operator\n",
    "import numpy as np\n",
    "import matplotlib.pyplot as plt"
   ]
  },
  {
   "cell_type": "markdown",
   "id": "ef6f7407-d705-4a1d-b954-8cfc827df78f",
   "metadata": {},
   "source": [
    "![diagram](./assets/buckshot-roulette-diagram.png)"
   ]
  }
 ],
 "metadata": {
  "kernelspec": {
   "display_name": "Python 3 (ipykernel)",
   "language": "python",
   "name": "python3"
  },
  "language_info": {
   "codemirror_mode": {
    "name": "ipython",
    "version": 3
   },
   "file_extension": ".py",
   "mimetype": "text/x-python",
   "name": "python",
   "nbconvert_exporter": "python",
   "pygments_lexer": "ipython3",
   "version": "3.8.15"
  }
 },
 "nbformat": 4,
 "nbformat_minor": 5
}
