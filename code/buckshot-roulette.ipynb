{
 "cells": [
  {
   "cell_type": "code",
   "execution_count": 143,
   "id": "be8ee858-5049-4c4c-ad17-52ab4e3fa640",
   "metadata": {},
   "outputs": [],
   "source": [
    "%matplotlib inline\n",
    "from qiskit import QuantumCircuit, transpile\n",
    "from qiskit.visualization import plot_distribution, array_to_latex, plot_bloch_multivector\n",
    "from qiskit.primitives import Sampler\n",
    "from qiskit.quantum_info import Statevector\n",
    "from qiskit.circuit import Parameter\n",
    "from qiskit_aer import AerSimulator\n",
    "from qiskit.quantum_info.operators import Operator\n",
    "import numpy as np\n",
    "import matplotlib.pyplot as plt\n",
    "import pandas as pd\n",
    "import seaborn as sns"
   ]
  },
  {
   "cell_type": "markdown",
   "id": "ef6f7407-d705-4a1d-b954-8cfc827df78f",
   "metadata": {},
   "source": [
    "![diagram](./assets/buckshot-roulette-diagram.png)"
   ]
  },
  {
   "cell_type": "code",
   "execution_count": 200,
   "id": "0cbd6426-49ec-45ba-94be-888241ff0120",
   "metadata": {},
   "outputs": [],
   "source": [
    "player_strategy = lambda bullets, fakes: \"himself\" if(bullets == fakes or fakes > bullets) else \"shoot\"\n",
    "dealer_strategy = lambda bullets, fakes:  \"himself\" if np.random.randint(2) else \"shoot\""
   ]
  },
  {
   "cell_type": "code",
   "execution_count": 206,
   "id": "e609d8f1-c38f-4d9c-8671-62b5f78f9e41",
   "metadata": {},
   "outputs": [],
   "source": [
    "def gun(bullets, fakes) -> bool:\n",
    "    v = bullets + fakes\n",
    "    r = np.random.randint(1, v+1)\n",
    "    return r <= bullets\n",
    "    \n",
    "\n",
    "def play(strategies:dict, players:list):\n",
    "    total_bullets = 3\n",
    "    total_fakes = 2\n",
    "\n",
    "    lives = {\n",
    "        \"player\":0,\n",
    "        \"dealer\":0\n",
    "    }\n",
    "\n",
    "    actual_player = players[0]\n",
    "    oponent = players[1]\n",
    "    \n",
    "    while(total_bullets):\n",
    "        player = strategies[actual_player]\n",
    "        action = player(total_bullets, total_fakes)\n",
    "        shot = gun(total_bullets, total_fakes)\n",
    "        \n",
    "        print(f\"playing: {actual_player}\")\n",
    "        print(f\"oponent: {oponent}\")\n",
    "        print(f\"action: {action}\")\n",
    "        print(f\"shot: {shot}\")\n",
    "        \n",
    "\n",
    "        if(action == \"shoot\" and shot):\n",
    "            lives[oponent] -=1\n",
    "            total_bullets -=1\n",
    "            actual_player = players[0]\n",
    "            oponent = players[1]\n",
    "\n",
    "        elif(action == \"shoot\" and not shot):\n",
    "            total_fakes -=1\n",
    "            actual_player,oponent = oponent,actual_player\n",
    "\n",
    "        elif(action == \"himself\" and shot):\n",
    "            lives[actual_player] -=1\n",
    "            total_bullets -=1\n",
    "            actual_player = players[0]\n",
    "            oponent = players[1]\n",
    "\n",
    "        else:\n",
    "            total_fakes -=1            \n",
    "\n",
    "        print(lives, end=\"\\n\\n\")\n"
   ]
  },
  {
   "cell_type": "code",
   "execution_count": 210,
   "id": "1e2801a8-75a0-476d-a179-46ee1c742381",
   "metadata": {},
   "outputs": [
    {
     "name": "stdout",
     "output_type": "stream",
     "text": [
      "playing: player\n",
      "oponent: dealer\n",
      "action: shoot\n",
      "shot: False\n",
      "{'player': 0, 'dealer': 0}\n",
      "\n",
      "playing: dealer\n",
      "oponent: player\n",
      "action: himself\n",
      "shot: True\n",
      "{'player': 0, 'dealer': -1}\n",
      "\n",
      "playing: player\n",
      "oponent: dealer\n",
      "action: shoot\n",
      "shot: True\n",
      "{'player': 0, 'dealer': -2}\n",
      "\n",
      "playing: player\n",
      "oponent: dealer\n",
      "action: himself\n",
      "shot: True\n",
      "{'player': -1, 'dealer': -2}\n",
      "\n"
     ]
    }
   ],
   "source": [
    "play({\"player\":player_strategy, \"dealer\":dealer_strategy}, (\"player\", \"dealer\"))"
   ]
  }
 ],
 "metadata": {
  "kernelspec": {
   "display_name": "Python 3 (ipykernel)",
   "language": "python",
   "name": "python3"
  },
  "language_info": {
   "codemirror_mode": {
    "name": "ipython",
    "version": 3
   },
   "file_extension": ".py",
   "mimetype": "text/x-python",
   "name": "python",
   "nbconvert_exporter": "python",
   "pygments_lexer": "ipython3",
   "version": "3.8.15"
  }
 },
 "nbformat": 4,
 "nbformat_minor": 5
}
