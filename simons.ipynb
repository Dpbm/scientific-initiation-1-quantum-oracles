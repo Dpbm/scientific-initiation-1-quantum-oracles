{
 "cells": [
  {
   "cell_type": "code",
   "execution_count": 2,
   "id": "ba95548c-7e9e-4f9a-894a-dce5ecd9499e",
   "metadata": {},
   "outputs": [],
   "source": [
    "%matplotlib inline\n",
    "from qiskit import QuantumCircuit\n",
    "from qiskit.visualization import plot_histogram\n",
    "from qiskit_aer import AerSimulator"
   ]
  },
  {
   "cell_type": "code",
   "execution_count": 3,
   "id": "c6941e87-6d8e-4eae-b06b-7b1fd1135f18",
   "metadata": {},
   "outputs": [
    {
     "name": "stdout",
     "output_type": "stream",
     "text": [
      "a=0 - (s ⊕ a)=2\n",
      "a=1 - (s ⊕ a)=3\n",
      "a=2 - (s ⊕ a)=0\n",
      "a=3 - (s ⊕ a)=1\n",
      "--------------------\n",
      "y=2 - (s ⊕ y)=0\n",
      "y=3 - (s ⊕ y)=1\n",
      "y=0 - (s ⊕ y)=2\n",
      "y=1 - (s ⊕ y)=3\n"
     ]
    }
   ],
   "source": [
    "total_bits = 2\n",
    "total_combinations = 2 ** total_bits\n",
    "s = 2 #10\n",
    "\n",
    "Y = []\n",
    "\n",
    "for a in range(total_combinations):\n",
    "    y = s^a\n",
    "    Y.append(y)\n",
    "    print(f'a={a} - (s ⊕ a)={y}')\n",
    "\n",
    "print('-'*20)\n",
    "\n",
    "for y in Y:\n",
    "    print(f'y={y} - (s ⊕ y)={y^s}')"
   ]
  },
  {
   "cell_type": "markdown",
   "id": "e2b0808e-51b4-4e43-a3f9-44d840a62304",
   "metadata": {},
   "source": [
    "y = s⊕a\\\n",
    "y⊕s = s⊕a⊕s\\\n",
    "y⊕s = s⊕s⊕a\\\n",
    "y⊕s = 0⊕a\\\n",
    "y⊕s = a"
   ]
  },
  {
   "cell_type": "code",
   "execution_count": 6,
   "id": "73d370c9-8e9c-4518-89e3-8cb2e6ecec02",
   "metadata": {},
   "outputs": [
    {
     "data": {
      "image/png": "[encoded data removed]",
      "text/plain": [
       "<Figure size 705.552x451.5 with 1 Axes>"
      ]
     },
     "execution_count": 6,
     "metadata": {},
     "output_type": "execute_result"
    }
   ],
   "source": [
    "total_qubits = total_bits*2\n",
    "half_qubits = total_bits\n",
    "\n",
    "qc = QuantumCircuit(total_qubits, total_bits)\n",
    "qc.h(range(half_qubits))\n",
    "qc.barrier()\n",
    "qc.cx(1, 3)\n",
    "qc.barrier()\n",
    "qc.h(range(half_qubits))\n",
    "qc.measure(range(half_qubits), range(total_bits))\n",
    "qc.draw('mpl', filename=\"simons.png\")"
   ]
  },
  {
   "cell_type": "code",
   "execution_count": 7,
   "id": "eac143e7-4ee5-4a45-8f48-4c2b66b45921",
   "metadata": {},
   "outputs": [],
   "source": [
    "sim = AerSimulator()\n",
    "result = sim.run(qc).result().get_counts()\n",
    "plot_histogram(result, filename=\"simons_plot.png\")"
   ]
  }
 ],
 "metadata": {
  "kernelspec": {
   "display_name": "Python 3 (ipykernel)",
   "language": "python",
   "name": "python3"
  },
  "language_info": {
   "codemirror_mode": {
    "name": "ipython",
    "version": 3
   },
   "file_extension": ".py",
   "mimetype": "text/x-python",
   "name": "python",
   "nbconvert_exporter": "python",
   "pygments_lexer": "ipython3",
   "version": "3.8.15"
  }
 },
 "nbformat": 4,
 "nbformat_minor": 5
}
